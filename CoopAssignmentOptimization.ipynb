{
 "cells": [
  {
   "cell_type": "code",
   "execution_count": 41,
   "metadata": {},
   "outputs": [
    {
     "name": "stderr",
     "output_type": "stream",
     "text": [
      "\u001b[1m\u001b[36mINFO: \u001b[39m\u001b[22m\u001b[36mPrecompiling module HTTP.\n",
      "\u001b[39m\u001b[91mlisten: address already in use (EADDRINUSE)\u001b[39m\n",
      "Stacktrace:\n",
      " [1] \u001b[1muv_error\u001b[22m\u001b[22m at \u001b[1m.\\libuv.jl:68\u001b[22m\u001b[22m [inlined]\n",
      " [2] "
     ]
    },
    {
     "name": "stdout",
     "output_type": "stream",
     "text": [
      "helloAny["
     ]
    },
    {
     "name": "stderr",
     "output_type": "stream",
     "text": [
      "\u001b[1m#listen#349\u001b[22m\u001b[22m\u001b[1m(\u001b[22m\u001b[22m::"
     ]
    },
    {
     "name": "stdout",
     "output_type": "stream",
     "text": [
      "\"id\", \"location_id\", \"attention\", \"address_1\", \"address"
     ]
    },
    {
     "name": "stderr",
     "output_type": "stream",
     "text": [
      "Int64, ::Function, ::Base.TCPServer\u001b[1m)\u001b[22m\u001b[22m at \u001b[1m.\\stream.jl:933\u001b[22m\u001b[22m\n",
      " [3] \u001b[1mlisten\u001b[22m\u001b[22m\u001b[1m(\u001b[22m\u001b[22m::HttpServer.Server, ::IPv4, ::Int64\u001b[1m)\u001b[22m\u001b[22m at \u001b[1mC:\\Users\\Galadriel\\.julia\\v0.6\\HttpServer\\src\\HttpServer.jl:208\u001b[22m\u001b[22m\n",
      " [4] \u001b[1m#run#13\u001b[22m\u001b[22m\u001b[1m(\u001b[22m\u001b[22m::Array{Any,1}, ::Function, ::HttpServer.Server\u001b[1m)\u001b[22m\u001b[22m at \u001b[1mC:\\Users\\Galadriel\\.julia\\v0.6\\HttpServer\\src\\HttpServer.jl:357\u001b[22m\u001b[22m\n",
      " [5] "
     ]
    },
    {
     "name": "stdout",
     "output_type": "stream",
     "text": [
      "_2\", \"city\", \"state_province\", \"postal_code\", \"country\"]\n"
     ]
    },
    {
     "name": "stderr",
     "output_type": "stream",
     "text": [
      "\u001b[1m(::Base.#kw##run)\u001b[22m\u001b[22m\u001b[1m(\u001b[22m\u001b[22m::Array{Any,1}, ::Base.#run, ::HttpServer.Server\u001b[1m)\u001b[22m\u001b[22m at \u001b[1m.\\<missing>:0\u001b[22m\u001b[22m\n",
      " [6] \u001b[1m(::Mux.##16#17{Array{Any,1},HttpServer.Server,Int64})\u001b[22m\u001b[22m\u001b[1m(\u001b[22m\u001b[22m\u001b[1m)\u001b[22m\u001b[22m at \u001b[1m.\\task.jl:335\u001b[22m\u001b[22m\n"
     ]
    },
    {
     "ename": "LoadError",
     "evalue": "\u001b[91mMethodError: Cannot `convert` an object of type SubString{String} to an object of type Float64\nThis may have arisen from a call to the constructor Float64(...),\nsince type constructors fall back to convert methods.\u001b[39m",
     "output_type": "error",
     "traceback": [
      "\u001b[91mMethodError: Cannot `convert` an object of type SubString{String} to an object of type Float64\nThis may have arisen from a call to the constructor Float64(...),\nsince type constructors fall back to convert methods.\u001b[39m",
      "",
      "Stacktrace:",
      " [1] \u001b[1msetindex!\u001b[22m\u001b[22m\u001b[1m(\u001b[22m\u001b[22m::Array{Float64,2}, ::SubString{String}, ::Int64, ::Int64\u001b[1m)\u001b[22m\u001b[22m at \u001b[1m.\\array.jl:584\u001b[22m\u001b[22m",
      " [2] \u001b[1mmacro expansion\u001b[22m\u001b[22m at \u001b[1m.\\In[41]:23\u001b[22m\u001b[22m [inlined]",
      " [3] \u001b[1manonymous\u001b[22m\u001b[22m at \u001b[1m.\\<missing>:?\u001b[22m\u001b[22m"
     ]
    }
   ],
   "source": [
    "# Load the data file (ref: Boyd/263)\n",
    "using Mux\n",
    "using HTTP\n",
    "\n",
    "@app test = (\n",
    "Mux.defaults,\n",
    "page(respond(\"<h1>Hello world</h1>\")),\n",
    "Mux.notfound())\n",
    "\n",
    "serve(test)\n",
    "#This script becomes a function, call function, get result, return result (respond(result) not respont(hello world))\n",
    "#need to upload CSV from HTML\n",
    "#alternative: pass in web address to the HTML call, change this --|U\n",
    "res = HTTP.get(\"https://raw.githubusercontent.com/codeforamerica/ohana-api/master/data/sample-csv/mail_addresses.csv\")\n",
    "raw = readcsv(res.body);\n",
    "print(\"hello\")\n",
    "names = [1:7]\n",
    "preferences = zeros(14,7)\n",
    "x = raw[1,:]\n",
    "println(x)\n",
    "for i in 1:14\n",
    "    for j in 1:7\n",
    "        preferences[i,j] = raw[i+1,j+1]\n",
    "    end\n",
    "end\n",
    "println(\"hello\")\n",
    "println(preferences[1,1])\n",
    "println(preferences[14,7])\n",
    "\n",
    "#T = length(u)\n",
    "\n",
    "# plot the u and y data\n",
    "#using PyPlot\n",
    "#figure(figsize=(12,4))\n",
    "#plot([u y],\".-\");\n",
    "#legend([\"input u\", \"output y\"], loc=\"lower right\");"
   ]
  },
  {
   "cell_type": "code",
   "execution_count": 35,
   "metadata": {},
   "outputs": [
    {
     "name": "stdout",
     "output_type": "stream",
     "text": [
      "Optimal\n",
      "\n",
      "0.0 1.0 0.0 0.0 0.0 0.0 0.0 \n",
      "0.0 1.0 0.0 0.0 0.0 0.0 0.0 \n",
      "0.0 0.0 1.0 0.0 0.0 0.0 0.0 \n",
      "0.0 0.0 1.0 0.0 0.0 0.0 0.0 \n",
      "0.0 0.0 0.0 1.0 0.0 0.0 0.0 \n",
      "0.0 0.0 0.0 0.0 0.0 0.0 1.0 \n",
      "0.0 0.0 0.0 0.0 1.0 0.0 0.0 \n",
      "0.0 0.0 0.0 0.0 0.0 1.0 0.0 \n",
      "0.0 0.0 0.0 0.0 0.0 0.0 1.0 \n",
      "1.0 0.0 0.0 0.0 0.0 0.0 0.0 \n",
      "1.0 0.0 0.0 0.0 0.0 0.0 0.0 \n",
      "0.0 0.0 0.0 0.0 1.0 0.0 0.0 \n",
      "0.0 0.0 0.0 1.0 0.0 0.0 0.0 \n",
      "0.0 0.0 0.0 0.0 0.0 1.0 0.0 \n"
     ]
    }
   ],
   "source": [
    "using JuMP, Clp\n",
    "\n",
    "m = Model(solver=ClpSolver())\n",
    "@variable(m, u[1:14,1:7])\n",
    "#@variable(m, 1 <= q <= 4 )\n",
    "for i in 1:14\n",
    "    for j in 1:7\n",
    "        @constraint(m,u[i,j]<=1)\n",
    "        @constraint(m,u[i,j]>=0)\n",
    "    end\n",
    "    @constraint(m,sum(u[i,k] for k in 1:7)==1)\n",
    "end\n",
    "for j in 1:7\n",
    "    @constraint(m,sum(u[h,j] for h in 1:14)==2)\n",
    "end\n",
    "@objective(m, Min, sum(u[i,j].*preferences[i,j] for i in 1:14,j in 1:7) )\n",
    "\n",
    "status = solve(m)\n",
    "\n",
    "#println(m)\n",
    "println(status)\n",
    "println()\n",
    "for i in 1:14\n",
    "    for j in 1:7\n",
    "        print(abs(getvalue(u[i,j])))\n",
    "        print(\" \")\n",
    "    end\n",
    "    println()\n",
    "end\n",
    "#println(\"objective = \", getobjectivevalue(m) )"
   ]
  },
  {
   "cell_type": "code",
   "execution_count": 40,
   "metadata": {},
   "outputs": [
    {
     "name": "stderr",
     "output_type": "stream",
     "text": [
      "\u001b[1m\u001b[36mINFO: \u001b[39m\u001b[22m\u001b[36mCloning cache of HTTP from https://github.com/JuliaWeb/HTTP.jl.git\n",
      "\u001b[39m\u001b[1m\u001b[36mINFO: \u001b[39m\u001b[22m\u001b[36mCloning cache of IniFile from https://github.com/JuliaIO/IniFile.jl.git\n",
      "\u001b[39m\u001b[1m\u001b[36mINFO: \u001b[39m\u001b[22m\u001b[36mInstalling HTTP v0.6.9\n",
      "\u001b[39m\u001b[1m\u001b[36mINFO: \u001b[39m\u001b[22m\u001b[36mInstalling IniFile v0.4.0\n",
      "\u001b[39m\u001b[1m\u001b[36mINFO: \u001b[39m\u001b[22m\u001b[36mBuilding MbedTLS\n",
      "\u001b[39m\u001b[1m\u001b[36mINFO: \u001b[39m\u001b[22m\u001b[36mPackage database updated\n",
      "\u001b[39m\u001b[1m\u001b[36mINFO: \u001b[39m\u001b[22m\u001b[36mMETADATA is out-of-date — you may not have the latest version of HTTP\n",
      "\u001b[39m\u001b[1m\u001b[36mINFO: \u001b[39m\u001b[22m\u001b[36mUse `Pkg.update()` to get the latest versions of your packages\n",
      "\u001b[39m"
     ]
    }
   ],
   "source": [
    "Pkg.add(\"HTTP\")"
   ]
  },
  {
   "cell_type": "code",
   "execution_count": null,
   "metadata": {},
   "outputs": [],
   "source": [
    "#@Pkg.build(\"HTTP\")"
   ]
  }
 ],
 "metadata": {
  "kernelspec": {
   "display_name": "Julia 0.6.2",
   "language": "julia",
   "name": "julia-0.6"
  },
  "language_info": {
   "file_extension": ".jl",
   "mimetype": "application/julia",
   "name": "julia",
   "version": "0.6.2"
  }
 },
 "nbformat": 4,
 "nbformat_minor": 2
}
