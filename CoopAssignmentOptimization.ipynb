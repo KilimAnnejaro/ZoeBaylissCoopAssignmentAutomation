{
 "cells": [
  {
   "cell_type": "code",
   "execution_count": 3,
   "metadata": {},
   "outputs": [
    {
     "name": "stderr",
     "output_type": "stream",
     "text": [
      "\u001b[91mlisten: address already in use (EADDRINUSE)\u001b[39m\n",
      "Stacktrace:\n",
      " [1] \u001b[1muv_error\u001b[22m\u001b[22m at \u001b[1m.\\libuv.jl:68\u001b[22m\u001b[22m [inlined]\n",
      " [2] \u001b[1m#listen#349\u001b[22m\u001b[22m\u001b[1m(\u001b[22m\u001b[22m::Int64, ::Function, ::Base.TCPServer\u001b[1m)\u001b[22m\u001b[22m at \u001b[1m.\\stream.jl:933\u001b[22m\u001b[22m\n",
      " [3] \u001b[1mlisten\u001b[22m\u001b[22m\u001b[1m(\u001b[22m\u001b[22m::HttpServer.Server, ::IPv4, ::Int64\u001b[1m)\u001b[22m\u001b[22m at \u001b[1mC:\\Users\\Galadriel\\.julia\\v0.6\\HttpServer\\src\\HttpServer.jl:208\u001b[22m\u001b[22m\n",
      " [4] \u001b[1m#run#13\u001b[22m\u001b[22m\u001b[1m(\u001b[22m\u001b[22m::Array{Any,1}, ::Function, ::HttpServer.Server\u001b[1m)\u001b[22m\u001b[22m at \u001b[1mC:\\Users\\Galadriel\\.julia\\v0.6\\HttpServer\\src\\HttpServer.jl:357\u001b[22m\u001b[22m\n",
      " [5] \u001b[1m(::Base.#kw##run)\u001b[22m\u001b[22m\u001b[1m(\u001b[22m\u001b[22m::Array{Any,1}, ::Base.#run, ::HttpServer.Server\u001b[1m)\u001b[22m\u001b[22m at \u001b[1m.\\<missing>:0\u001b[22m\u001b[22m\n",
      " [6] \u001b[1m(::Mux.##16#17{Array{Any,1},HttpServer.Server,Int64})\u001b[22m\u001b[22m\u001b[1m(\u001b[22m\u001b[22m\u001b[1m)\u001b[22m\u001b[22m at \u001b[1m.\\task.jl:335\u001b[22m\u001b[22m\n"
     ]
    },
    {
     "name": "stdout",
     "output_type": "stream",
     "text": [
      "helloAny[\"\\ufeff\", \"Su\", \"M\", \"Tu\", \"W\", \"Th\", \"F\", \"Sa\"]\n",
      "hello\n",
      "6.0\n",
      "2.0\n",
      "Optimal\n",
      "\n"
     ]
    },
    {
     "name": "stderr",
     "output_type": "stream",
     "text": [
      "\u001b[1m\u001b[33mWARNING: \u001b[39m\u001b[22m\u001b[33mabs(x::AbstractArray{T}) where T <: Number is deprecated, use abs.(x) instead.\u001b[39m\n",
      "Stacktrace:\n",
      " [1] \u001b[1mdepwarn\u001b[22m\u001b[22m\u001b[1m(\u001b[22m\u001b[22m::String, ::Symbol\u001b[1m)\u001b[22m\u001b[22m at \u001b[1m.\\deprecated.jl:70\u001b[22m\u001b[22m\n",
      " [2] \u001b[1mabs\u001b[22m\u001b[22m\u001b[1m(\u001b[22m\u001b[22m::Array{Float64,2}\u001b[1m)\u001b[22m\u001b[22m at \u001b[1m.\\deprecated.jl:57\u001b[22m\u001b[22m\n",
      " [3] \u001b[1mkitchenDuties\u001b[22m\u001b[22m\u001b[1m(\u001b[22m\u001b[22m::String\u001b[1m)\u001b[22m\u001b[22m at \u001b[1m.\\In[3]:53\u001b[22m\u001b[22m\n",
      " [4] \u001b[1minclude_string\u001b[22m\u001b[22m\u001b[1m(\u001b[22m\u001b[22m::String, ::String\u001b[1m)\u001b[22m\u001b[22m at \u001b[1m.\\loading.jl:522\u001b[22m\u001b[22m\n",
      " [5] \u001b[1mexecute_request\u001b[22m\u001b[22m\u001b[1m(\u001b[22m\u001b[22m::ZMQ.Socket, ::IJulia.Msg\u001b[1m)\u001b[22m\u001b[22m at \u001b[1mC:\\Users\\Galadriel\\.julia\\v0.6\\IJulia\\src\\execute_request.jl:158\u001b[22m\u001b[22m\n",
      " [6] \u001b[1m(::Compat.#inner#17{Array{Any,1},IJulia.#execute_request,Tuple{ZMQ.Socket,IJulia.Msg}})\u001b[22m\u001b[22m\u001b[1m(\u001b[22m\u001b[22m\u001b[1m)\u001b[22m\u001b[22m at \u001b[1mC:\\Users\\Galadriel\\.julia\\v0.6\\Compat\\src\\Compat.jl:385\u001b[22m\u001b[22m\n",
      " [7] \u001b[1meventloop\u001b[22m\u001b[22m\u001b[1m(\u001b[22m\u001b[22m::ZMQ.Socket\u001b[1m)\u001b[22m\u001b[22m at \u001b[1mC:\\Users\\Galadriel\\.julia\\v0.6\\IJulia\\src\\eventloop.jl:8\u001b[22m\u001b[22m\n",
      " [8] \u001b[1m(::IJulia.##14#17)\u001b[22m\u001b[22m\u001b[1m(\u001b[22m\u001b[22m\u001b[1m)\u001b[22m\u001b[22m at \u001b[1m.\\task.jl:335\u001b[22m\u001b[22m\n",
      "while loading In[3], in expression starting on line 56\n"
     ]
    },
    {
     "name": "stdout",
     "output_type": "stream",
     "text": [
      "[0.0 1.0 0.0 0.0 0.0 0.0 0.0; 0.0 1.0 0.0 0.0 0.0 0.0 0.0; 0.0 0.0 1.0 0.0 0.0 0.0 0.0; 0.0 0.0 1.0 0.0 0.0 0.0 0.0; 0.0 0.0 0.0 1.0 0.0 0.0 0.0; 0.0 0.0 0.0 0.0 0.0 0.0 1.0; 0.0 0.0 0.0 0.0 1.0 0.0 0.0; 0.0 0.0 0.0 0.0 0.0 1.0 0.0; 0.0 0.0 0.0 0.0 0.0 0.0 1.0; 1.0 0.0 0.0 0.0 0.0 0.0 0.0; 1.0 0.0 0.0 0.0 0.0 0.0 0.0; 0.0 0.0 0.0 0.0 1.0 0.0 0.0; 0.0 0.0 0.0 1.0 0.0 0.0 0.0; 0.0 0.0 0.0 0.0 0.0 1.0 0.0]\n"
     ]
    },
    {
     "data": {
      "text/plain": [
       "\"    for i in 1:14\\n        for j in 1:7\\n            print(abs(getvalue(u[i,j])))\\n            print(\\\" \\\")\\n        end\\n        println()\\nend\""
      ]
     },
     "execution_count": 3,
     "metadata": {},
     "output_type": "execute_result"
    }
   ],
   "source": [
    "using Mux\n",
    "using HTTP\n",
    "using JuMP, Clp\n",
    "\n",
    "@app test = (\n",
    "Mux.defaults,\n",
    "page(respond(kitchenDuties($(req[:params][:web_address])))),\n",
    "Mux.notfound())\n",
    "\n",
    "serve(test)\n",
    "#This script becomes a function, call function, get result, return result (respond(result) not respond(hello world))\n",
    "#need to upload CSV from HTML\n",
    "#alternative: pass in web address to the HTML call, change this --|U\n",
    "addr = \"https://raw.githubusercontent.com/KilimAnnejaro/ZoeBaylissCoopAssignmentAutomation/master/Test.csv\"\n",
    "function kitchenDuties(addr)\n",
    "    res = HTTP.get(addr)\n",
    "    raw = readcsv(res.body);\n",
    "    print(\"hello\")\n",
    "    names = [1:7]\n",
    "    preferences = zeros(14,7)\n",
    "    x = raw[1,:]\n",
    "    println(x)\n",
    "    for i in 1:14\n",
    "        for j in 1:7\n",
    "            preferences[i,j] = raw[i+1,j+1]\n",
    "        end\n",
    "    end\n",
    "    println(\"hello\")\n",
    "    println(preferences[1,1])\n",
    "    println(preferences[14,7])\n",
    "\n",
    "\n",
    "    m = Model(solver=ClpSolver())\n",
    "    @variable(m, u[1:14,1:7])\n",
    "\n",
    "    for i in 1:14\n",
    "        for j in 1:7\n",
    "            @constraint(m,u[i,j]<=1)\n",
    "            @constraint(m,u[i,j]>=0)\n",
    "        end\n",
    "        @constraint(m,sum(u[i,k] for k in 1:7)==1)\n",
    "    end\n",
    "    for j in 1:7\n",
    "        @constraint(m,sum(u[h,j] for h in 1:14)==2)\n",
    "    end\n",
    "    @objective(m, Min, sum(u[i,j].*preferences[i,j] for i in 1:14,j in 1:7) )\n",
    "\n",
    "    status = solve(m)\n",
    "\n",
    "    println(status)\n",
    "    println()\n",
    "    return (abs(getvalue(u)))\n",
    "\n",
    "end\n",
    "println(kitchenDuties(addr))\n",
    "\"\"\"    for i in 1:14\n",
    "        for j in 1:7\n",
    "            print(abs(getvalue(u[i,j])))\n",
    "            print(\" \")\n",
    "        end\n",
    "        println()\n",
    "end\"\"\""
   ]
  },
  {
   "cell_type": "code",
   "execution_count": 3,
   "metadata": {},
   "outputs": [
    {
     "name": "stderr",
     "output_type": "stream",
     "text": [
      "Array"
     ]
    },
    {
     "name": "stdout",
     "output_type": "stream",
     "text": [
      "Optimal"
     ]
    },
    {
     "name": "stderr",
     "output_type": "stream",
     "text": [
      "{Any,1"
     ]
    },
    {
     "name": "stdout",
     "output_type": "stream",
     "text": [
      "\n",
      "\n",
      "0.0 1.0 0.0 0.0 0.0 0.0 0.0 \n",
      "0.0 1.0 0.0 0.0 0.0 0.0 0.0 \n",
      "0.0 0.0 1.0 0.0 0.0 0.0 0.0 \n",
      "0.0 0.0 1.0 0.0 0.0 0.0 0.0 \n",
      "0.0 0.0 0.0 1.0 0.0 0.0 0.0 \n",
      "0.0 0.0 0.0 0.0 0.0 0.0 1"
     ]
    },
    {
     "name": "stderr",
     "output_type": "stream",
     "text": [
      "}, ::Function, ::HttpServer.Server\u001b[1m)\u001b[22m\u001b[22m at \u001b[1mC:\\Users\\Galadriel\\.julia\\v0.6\\HttpServer\\src\\HttpServer.jl:357\u001b[22m\u001b[22m\n",
      " [5] \u001b[1m(::Base.#kw##run)\u001b[22m\u001b[22m\u001b[1m(\u001b[22m\u001b[22m::Array{Any,1}, ::Base.#run, ::HttpServer.Server\u001b[1m)\u001b[22m\u001b[22m at \u001b[1m.\\<missing>:0\u001b[22m\u001b[22m\n",
      " [6] \u001b[1m(::Mux.##16#17{Array{Any,1},HttpServer.Server,Int64})\u001b[22m\u001b[22m\u001b[1m(\u001b[22m\u001b[22m\u001b[1m)\u001b[22m\u001b[22m at \u001b[1m.\\task.jl:335\u001b[22m\u001b[22m\n"
     ]
    },
    {
     "name": "stdout",
     "output_type": "stream",
     "text": [
      ".0 \n",
      "0.0 0.0 0.0 0.0 1.0 0.0 0.0 \n",
      "0.0 0.0 0.0 0.0 0.0 1.0 0.0 \n",
      "0.0 0.0 0.0 0.0 0.0 0.0 1.0 \n",
      "1.0 0.0 0.0 0.0 0.0 0.0 0.0 \n",
      "1.0 0.0 0.0 0.0 0.0 0.0 0.0 \n",
      "0.0 0.0 0.0 0.0 1.0 0.0 0.0 \n",
      "0.0 0.0 0.0 1.0 0.0 0.0 0.0 \n",
      "0.0 0.0 0.0 0.0 0.0 1.0 0.0 \n"
     ]
    }
   ],
   "source": [
    "using JuMP, Clp\n",
    "\n",
    "m = Model(solver=ClpSolver())\n",
    "@variable(m, u[1:14,1:7])\n",
    "#@variable(m, 1 <= q <= 4 )\n",
    "for i in 1:14\n",
    "    for j in 1:7\n",
    "        @constraint(m,u[i,j]<=1)\n",
    "        @constraint(m,u[i,j]>=0)\n",
    "    end\n",
    "    @constraint(m,sum(u[i,k] for k in 1:7)==1)\n",
    "end\n",
    "for j in 1:7\n",
    "    @constraint(m,sum(u[h,j] for h in 1:14)==2)\n",
    "end\n",
    "@objective(m, Min, sum(u[i,j].*preferences[i,j] for i in 1:14,j in 1:7) )\n",
    "\n",
    "status = solve(m)\n",
    "\n",
    "#println(m)\n",
    "println(status)\n",
    "println()\n",
    "for i in 1:14\n",
    "    for j in 1:7\n",
    "        print(abs(getvalue(u[i,j])))\n",
    "        print(\" \")\n",
    "    end\n",
    "    println()\n",
    "end\n",
    "#println(\"objective = \", getobjectivevalue(m) )"
   ]
  },
  {
   "cell_type": "code",
   "execution_count": 4,
   "metadata": {},
   "outputs": [
    {
     "name": "stderr",
     "output_type": "stream",
     "text": [
      "\u001b[1m\u001b[36mINFO: \u001b[39m\u001b[22m\u001b[36mPackage HTTP is already installed\n",
      "\u001b[39m\u001b[1m\u001b[36mINFO: \u001b[39m\u001b[22m\u001b[36mMETADATA is out-of-date — you may not have the latest version of HTTP\n",
      "\u001b[39m\u001b[1m\u001b[36mINFO: \u001b[39m\u001b[22m\u001b[36mUse `Pkg.update()` to get the latest versions of your packages\n",
      "\u001b[39m"
     ]
    }
   ],
   "source": [
    "Pkg.add(\"HTTP\")"
   ]
  },
  {
   "cell_type": "code",
   "execution_count": 5,
   "metadata": {},
   "outputs": [],
   "source": [
    "#@Pkg.build(\"HTTP\")"
   ]
  }
 ],
 "metadata": {
  "kernelspec": {
   "display_name": "Julia 0.6.2",
   "language": "julia",
   "name": "julia-0.6"
  },
  "language_info": {
   "file_extension": ".jl",
   "mimetype": "application/julia",
   "name": "julia",
   "version": "0.6.2"
  }
 },
 "nbformat": 4,
 "nbformat_minor": 2
}
